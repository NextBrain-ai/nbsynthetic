{
  "nbformat": 4,
  "nbformat_minor": 0,
  "metadata": {
    "colab": {
      "name": "Como_utlizar_nbsynthetic.ipynb",
      "provenance": []
    },
    "kernelspec": {
      "name": "python3",
      "display_name": "Python 3"
    },
    "language_info": {
      "name": "python"
    }
  },
  "cells": [
    {
      "cell_type": "code",
      "execution_count": null,
      "metadata": {
        "id": "XaH6LLJCVdta"
      },
      "outputs": [],
      "source": [
        "from data import input_data\n",
        "from data_preparation import SmartBrain\n",
        "from vgan import GAN\n",
        "from synthetic import synthetic_data\n",
        "from statistical_tests import mmd_rbf, Wilcoxon, Student_t, Kolmogorov_Smirnov\n",
        "from statistical_tests import plot_histograms"
      ]
    },
    {
      "cell_type": "code",
      "source": [
        "df = input_data('Breast_cancer', decimal=',')\n",
        "SB = SmartBrain() \n",
        "#encode categorical variables and \n",
        "#remove nan\n",
        "df = SB.nbPreparation(df)\n",
        "df.dtypes"
      ],
      "metadata": {
        "id": "aWhGthTiV2H7"
      },
      "execution_count": null,
      "outputs": []
    },
    {
      "cell_type": "code",
      "source": [
        "\"\"\" \n",
        "#Arguments\n",
        "GAN : Vanilla GAN\n",
        "df : input data\n",
        "samples: number of features in the\n",
        "#Additional arguments\n",
        "initial_lr = 0.0002(default), \n",
        "dropout = 0.5(default), \n",
        "epochs = 10(default)\n",
        "#Output\n",
        "newdf = Synthetic dataset with lenght=samples\n",
        "\"\"\"\n",
        "samples= 2000\n",
        "newdf = synthetic_data(\n",
        "    GAN, \n",
        "    df, \n",
        "    samples = samples\n",
        "    )\n"
      ],
      "metadata": {
        "id": "k78Hb_7UYlYl"
      },
      "execution_count": null,
      "outputs": []
    },
    {
      "cell_type": "code",
      "source": [
        "\"\"\"\n",
        "  MMD is a statistical tests to determine if two samples \n",
        "  are from different distributions. This statistic test \n",
        "  measures the distance between the means of the two samples \n",
        "  mapped into a reproducing kernel Hilbert space (RKHS).\n",
        "  Maximum Mean Discrepancy has found numerous applications in \n",
        "  machine learning and nonparametric testing.\n",
        "\n",
        "  [1] Ilya Tolstikhin, Bharath K. Sriperumbudur, and Bernhard Schölkopf. 2016. \n",
        "  Minimax estimation of maximum mean discrepancy with radial kernels. \n",
        "  In Proceedings of the 30th International Conference on Neural \n",
        "  Information Processing Systems (NIPS'16). \n",
        "  Curran Associates Inc., Red Hook, NY, USA, 1938–1946.\n",
        "\n",
        "  [2] A. Gretton, K. M. Borgwardt, M. Rasch, B. Schölkopf, and A. Smola. \n",
        "  A kernel method for the two sample problem. \n",
        "  In B. Schölkopf, J. Platt, and T. Hoffman, editors, Advances in Neural\n",
        "  Information Processing Systems 19, pages 513–520, Cambridge, MA, 2007. MIT Press.\n",
        "\n",
        "      Args:\n",
        "\n",
        "         X: ndarray of shape (n_samples_X, n_features)\n",
        "         Y: ndarray of shape (n_samples_Y, n_features)\n",
        "         gamma: float (default:None)\n",
        "\n",
        "      Returns:\n",
        "          Maximum Mean Discrepancy (MMD) value: float\n",
        "\"\"\"\n",
        "mmd_rbf(df, newdf, gamma=None)"
      ],
      "metadata": {
        "id": "o3cPRhv4rnhJ"
      },
      "execution_count": null,
      "outputs": []
    },
    {
      "cell_type": "code",
      "source": [
        "\"\"\"\n",
        "  The Wilcoxon signed-rank test tests the null hypothesis \n",
        "  that two related paired samples come from the same \n",
        "  distribution. In particular, it tests whether the \n",
        "  distribution of the differences x - y is symmetric \n",
        "  about zero.  Wilcoxon signed-rank test, which is the \n",
        "  nonparametric version of the paired Student’s t-test. \n",
        "  This test has less statistical power than the paired t-test,\n",
        "  although more power when the expectations of the t-test \n",
        "  are violated, such as independence, when x or y does \n",
        "  not follows a normal distribution or when  x and y haven't \n",
        "  the same variance.\n",
        "  H0 = null hypothesis is that data vectors \n",
        "  x1 and x2 are samples from the same \n",
        "  distribution. If p < 0.05 H0 is rejected\n",
        "    Args:\n",
        "\n",
        "          X: pd.DataFrame of shape (n_samples_X, n_features)\n",
        "          Y: pd.DataFrame of shape (n_samples_Y, n_features)\n",
        "                \n",
        "      Returns:\n",
        "          list \n",
        "            list of features + Wilcoxon signed-rank \n",
        "            test p values\n",
        "\"\"\"\n",
        "Wilcoxon(df, newdf)"
      ],
      "metadata": {
        "id": "11Q4EgfRs86s"
      },
      "execution_count": null,
      "outputs": []
    },
    {
      "cell_type": "code",
      "source": [
        "\"\"\"Compares if the means are equivalent \n",
        "  with Student t-test. \n",
        "  H0 = null hypothesis  null hypothesis that \n",
        "  there is no effective difference between the \n",
        "  observed sample mean and the hypothesized \n",
        "  or stated population mean. \n",
        "  If p < 0.05, H0 is rejected\n",
        "    Args:\n",
        "\n",
        "          X: pd.DataFrame of shape (n_samples_X, n_features)\n",
        "          Y: pd.DataFrame of shape (n_samples_Y, n_features)\n",
        "                \n",
        "      Returns:\n",
        "          list \n",
        "            list of features + Student_t test p values\n",
        "\"\"\"\n",
        "Student_t(df, newdf)"
      ],
      "metadata": {
        "id": "0arLkJ-5tIPs"
      },
      "execution_count": null,
      "outputs": []
    },
    {
      "cell_type": "code",
      "source": [
        "\"\"\"Performs the two-sample Kolmogorov-Smirnov \n",
        "  test for goodness of fit. The one-sample test \n",
        "  compares the underlying distribution F(x) of \n",
        "  a sample against a given distribution G(x). \n",
        "  H0 = null hypothesis is that data vectors \n",
        "  x1 and x2 are from populations with the same \n",
        "  distribution. If p < 0.05 H0 is rejected\n",
        "  Args:\n",
        "\n",
        "          X: pd.DataFrame of shape (n_samples_X, n_features)\n",
        "          Y: pd.DataFrame of shape (n_samples_Y, n_features)\n",
        "                \n",
        "      Returns:\n",
        "          list \n",
        "            list of features an t-test p values\n",
        "\"\"\"\n",
        "Kolmogorov_Smirnov(df, newdf)"
      ],
      "metadata": {
        "id": "azqdL3TOtOOs"
      },
      "execution_count": null,
      "outputs": []
    },
    {
      "cell_type": "code",
      "source": [
        "\"\"\" \n",
        "    Plot histograms\n",
        "    Visually compare the distribution plots\n",
        "    of each feature and shows the Wilcoxon \n",
        "    test values. Use as probability density\n",
        "    as histnorm.\n",
        "   \n",
        "      Args:\n",
        "\n",
        "          X: pd.DataFrame of shape(n_samples_X, n_features)\n",
        "          Y: pd.DataFrame of shape (n_samples_Y, n_features)\n",
        "                \n",
        "      Returns:\n",
        "          Plotly figure\n",
        "\"\"\"\n",
        "plot_histograms(df, newdf)"
      ],
      "metadata": {
        "id": "gZNXeTgu2O6t"
      },
      "execution_count": null,
      "outputs": []
    },
    {
      "cell_type": "code",
      "source": [
        "newdf.to_csv('Breast_cancer_synthetic2.csv')"
      ],
      "metadata": {
        "id": "oOz0yfsy3esR"
      },
      "execution_count": null,
      "outputs": []
    }
  ]
}